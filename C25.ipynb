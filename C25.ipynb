{
  "cells": [
    {
      "cell_type": "markdown",
      "metadata": {
        "id": "view-in-github",
        "colab_type": "text"
      },
      "source": [
        "<a href=\"https://colab.research.google.com/github/Harish443/Pytho_codes/blob/main/C25.ipynb\" target=\"_parent\"><img src=\"https://colab.research.google.com/assets/colab-badge.svg\" alt=\"Open In Colab\"/></a>"
      ]
    },
    {
      "cell_type": "code",
      "execution_count": null,
      "metadata": {
        "colab": {
          "base_uri": "https://localhost:8080/"
        },
        "id": "cIBkbJn6M4BJ",
        "outputId": "c1bece5e-6371-4664-e577-e8280a08a90a"
      },
      "outputs": [
        {
          "name": "stdout",
          "output_type": "stream",
          "text": [
            "5\n",
            "sum =  15\n"
          ]
        }
      ],
      "source": [
        "#sum of numbers using for\n",
        "\n",
        "x=int(input())\n",
        "count=0\n",
        "\n",
        "for i in range(x+1):\n",
        "  count+=i\n",
        "\n",
        "print(\"sum = \",count)"
      ]
    },
    {
      "cell_type": "code",
      "execution_count": null,
      "metadata": {
        "colab": {
          "base_uri": "https://localhost:8080/"
        },
        "id": "gN5npUgZN1sv",
        "outputId": "37939759-f33c-48aa-81ee-9c2c6f7bf4a9"
      },
      "outputs": [
        {
          "output_type": "stream",
          "name": "stdout",
          "text": [
            "6\n",
            "10\n",
            "sum 46\n"
          ]
        }
      ],
      "source": [
        "#sum of numbers using while\n",
        "\n",
        "x=int(input())\n",
        "y=int(input())\n",
        "count=x\n",
        "\n",
        "while(x<=y):\n",
        "    count+=x\n",
        "    x+=1\n",
        "\n",
        "print(\"sum\",count)"
      ]
    },
    {
      "cell_type": "code",
      "execution_count": null,
      "metadata": {
        "colab": {
          "base_uri": "https://localhost:8080/"
        },
        "id": "WiHTooNETuDm",
        "outputId": "5cf64e49-32ec-42d6-88db-81704dbf91d9"
      },
      "outputs": [
        {
          "name": "stdout",
          "output_type": "stream",
          "text": [
            "3\n",
            "10\n",
            "avg =  6.5\n"
          ]
        }
      ],
      "source": [
        "#finding avg of series\n",
        "'''\n",
        "x=int(input())\n",
        "y=int(input())\n",
        "count=0\n",
        "z=0\n",
        "for i in range(x,y+1):\n",
        "    count+=i\n",
        "    z+=1\n",
        "print(\"avg = \",count/z)\n",
        "'''\n",
        "\n",
        "#Or\n",
        "\n",
        "\n",
        "x=int(input())#starting\n",
        "y=int(input())#ending\n",
        "count=[]\n",
        "z=0\n",
        "\n",
        "for i in range(x,y+1):\n",
        "  count.append(i)\n",
        "  d=len(count)\n",
        "  z+=i\n",
        "print(\"avg = \",z/d)"
      ]
    },
    {
      "cell_type": "code",
      "execution_count": null,
      "metadata": {
        "colab": {
          "base_uri": "https://localhost:8080/"
        },
        "id": "BlWEgTHgVWNa",
        "outputId": "f68f99b8-5b1a-4326-d058-50f225fd5d42"
      },
      "outputs": [
        {
          "name": "stdout",
          "output_type": "stream",
          "text": [
            "5\n",
            "area of circle =  78.5\n"
          ]
        }
      ],
      "source": [
        "#area of circle\n",
        "\n",
        "x=int(input())\n",
        "'''\n",
        "circle=3.14*x**2;\n",
        "print(\"area of circle = \",circle)\n",
        "'''\n",
        "\n",
        "circle=3.14*pow(x,2);\n",
        "print(\"area of circle = \",circle)"
      ]
    },
    {
      "cell_type": "code",
      "execution_count": null,
      "metadata": {
        "colab": {
          "base_uri": "https://localhost:8080/"
        },
        "id": "gwGjhopYgKV8",
        "outputId": "3c1d8809-9ebd-4a09-e27c-726fbdb8b7cf"
      },
      "outputs": [
        {
          "name": "stdout",
          "output_type": "stream",
          "text": [
            "abcda\n",
            "yes\n"
          ]
        }
      ],
      "source": [
        "#finding duplicates\n",
        "x=input();      #abcda\n",
        "\n",
        "for i in x:\n",
        "  n=0\n",
        "  for j in x:   #abcda\n",
        "    if i==j:\n",
        "      n+=1\n",
        "  if n>=2:\n",
        "    print(\"yes\")\n",
        "    break\n",
        "else:\n",
        "    print(\"no\")\n",
        "\n",
        "\n"
      ]
    },
    {
      "cell_type": "code",
      "execution_count": null,
      "metadata": {
        "colab": {
          "base_uri": "https://localhost:8080/"
        },
        "id": "_ke-7PI5eUln",
        "outputId": "b293d607-353e-483a-e628-c51a7e180054"
      },
      "outputs": [
        {
          "name": "stdout",
          "output_type": "stream",
          "text": [
            "4\n"
          ]
        },
        {
          "data": {
            "text/plain": [
              "9"
            ]
          },
          "execution_count": 17,
          "metadata": {},
          "output_type": "execute_result"
        }
      ],
      "source": [
        "#finding a number is fibonic or not\n",
        "\n",
        "n = int(input())\n",
        "\n",
        "n1 = (5*(n**2)+4)\n",
        "n2 = (5*(n**2)-4)\n",
        "if ((n1**(0.5))**2) == n1 or ((n2**(0.5))**2) == n2:\n",
        "  print(\"Yes\")\n",
        "else:\n",
        "  print(\"No\")\n"
      ]
    },
    {
      "cell_type": "code",
      "execution_count": null,
      "metadata": {
        "colab": {
          "base_uri": "https://localhost:8080/"
        },
        "id": "baN60-rdsTc5",
        "outputId": "f75f5a9a-089f-4d3e-d5ea-2f4a9f827a81"
      },
      "outputs": [
        {
          "name": "stdout",
          "output_type": "stream",
          "text": [
            "Enter a number: 3\n",
            "3  is a Fibonacci number.\n"
          ]
        }
      ],
      "source": [
        "import math\n",
        "\n",
        "def is_perfect_square(n):\n",
        "    sqrt_n = int(math.sqrt(n))\n",
        "    return sqrt_n * sqrt_n == n\n",
        "\n",
        "# Take input from the user\n",
        "num = int(input(\"Enter a number: \"))\n",
        "\n",
        "# Check if the number is a Fibonacci number\n",
        "fib_check1 = 5 * num * num + 4\n",
        "fib_check2 = 5 * num * num - 4\n",
        "\n",
        "if is_perfect_square(fib_check1) or is_perfect_square(fib_check2):\n",
        "    print(f\"{num}  is a Fibonacci number.\")\n",
        "else:\n",
        "    print(f\"{num} is not a Fibonacci number.\")"
      ]
    },
    {
      "cell_type": "code",
      "execution_count": null,
      "metadata": {
        "colab": {
          "base_uri": "https://localhost:8080/"
        },
        "id": "QgB-Pa4Cb1ts",
        "outputId": "4b19ffa7-0676-41ea-fd3f-326be618b04e"
      },
      "outputs": [
        {
          "name": "stdout",
          "output_type": "stream",
          "text": [
            "105\n",
            "enter the correct mark\n"
          ]
        }
      ],
      "source": [
        "n=int(input())\n",
        "\n",
        "if n>=91 and n<=100:\n",
        "  print(\"Grade A\")\n",
        "elif n>=81 and n<=90:\n",
        "  print(\"Grade B\")\n",
        "elif n>=71 and n<=80:\n",
        "  print(\"Grade C\")\n",
        "elif n>=61 and n<=70:\n",
        "  print(\"Grade D\")\n",
        "elif n>=0 and n<=60:\n",
        "  print(\"Grade E\")\n",
        "else:\n",
        "  print(\"enter the correct mark\")"
      ]
    },
    {
      "cell_type": "code",
      "execution_count": null,
      "metadata": {
        "colab": {
          "base_uri": "https://localhost:8080/"
        },
        "id": "hCWmmT7feMYn",
        "outputId": "295dc124-0b1e-45f1-d638-fd69f87f1806"
      },
      "outputs": [
        {
          "name": "stdout",
          "output_type": "stream",
          "text": [
            "5\n",
            "5  is a prime number\n"
          ]
        }
      ],
      "source": [
        "\n",
        "'''\n",
        "if n==2:\n",
        "  print(f\"{n} is prime number\")\n",
        "elif n%2==0 or (n==1):\n",
        "  print(f\"{n} is a not prime number\")\n",
        "else:\n",
        "   print(f\"{n} is a prime number\")'''\n",
        "\n",
        "n=int(input())\n",
        "x=0\n",
        "\n",
        "if x==1:\n",
        "  print(f\"{n} is not prime\")\n",
        "\n",
        "for i in range(2,n):\n",
        "  if n%i==0:\n",
        "    x+=1\n",
        "    if x>0:\n",
        "      print( n,\"is not a prime\")\n",
        "      break\n",
        "else:\n",
        "  print(n,\" is a prime number\")\n"
      ]
    },
    {
      "cell_type": "code",
      "execution_count": null,
      "metadata": {
        "colab": {
          "base_uri": "https://localhost:8080/"
        },
        "id": "RzFIO9UTiJyq",
        "outputId": "c2bb1ce2-902a-4ac9-8dd7-1474e2e3a717"
      },
      "outputs": [
        {
          "name": "stdout",
          "output_type": "stream",
          "text": [
            "10\n"
          ]
        }
      ],
      "source": [
        "'''\n",
        "n1=int(input())\n",
        "n2=int(input())\n",
        "\n",
        "print(sum([n1,n2]))\n",
        "'''\n",
        "#adding two numbers using bitwise operator\n",
        "\n",
        "a=(5&5)\n",
        "b=a<<1\n",
        "print(b)\n",
        "\n"
      ]
    },
    {
      "cell_type": "code",
      "execution_count": null,
      "metadata": {
        "colab": {
          "base_uri": "https://localhost:8080/"
        },
        "id": "hO6lHKZHqbZn",
        "outputId": "57e0169d-f74c-43f7-dcb3-15968a327f02"
      },
      "outputs": [
        {
          "name": "stdout",
          "output_type": "stream",
          "text": [
            "5\n",
            "5\n"
          ]
        },
        {
          "data": {
            "text/plain": [
              "10"
            ]
          },
          "execution_count": 73,
          "metadata": {},
          "output_type": "execute_result"
        }
      ],
      "source": [
        "a=int(input())\n",
        "b=int(input())\n",
        "c=a-(-b)\n",
        "c"
      ]
    },
    {
      "cell_type": "code",
      "execution_count": null,
      "metadata": {
        "colab": {
          "base_uri": "https://localhost:8080/"
        },
        "id": "_upYcIMcp4VK",
        "outputId": "b44a5d9a-e87d-47c1-c93e-c20b76879440"
      },
      "outputs": [
        {
          "name": "stdout",
          "output_type": "stream",
          "text": [
            "100\n"
          ]
        },
        {
          "data": {
            "text/plain": [
              "212.0"
            ]
          },
          "execution_count": 74,
          "metadata": {},
          "output_type": "execute_result"
        }
      ],
      "source": [
        "# celcius to farenhiet\n",
        "\n",
        "c=int(input())\n",
        "f=(c*1.8)+32\n",
        "f"
      ]
    },
    {
      "cell_type": "code",
      "execution_count": null,
      "metadata": {
        "colab": {
          "base_uri": "https://localhost:8080/"
        },
        "id": "G6oopqBd7M3k",
        "outputId": "b49912a7-2575-4ad5-9d75-393cfb90b077"
      },
      "outputs": [
        {
          "name": "stdout",
          "output_type": "stream",
          "text": [
            "4\n",
            "6\n",
            "10\n"
          ]
        }
      ],
      "source": [
        "a=(7^3)\n",
        "b=(7&3)<<1\n",
        "c=(a+b)\n",
        "print(c)\n"
      ]
    },
    {
      "cell_type": "code",
      "execution_count": null,
      "metadata": {
        "colab": {
          "base_uri": "https://localhost:8080/"
        },
        "id": "aBKg5j40x1yG",
        "outputId": "3dc38f02-f0d4-4b26-b705-3fee2a03ffe6"
      },
      "outputs": [
        {
          "name": "stdout",
          "output_type": "stream",
          "text": [
            "10\n",
            "0\n",
            "1\n"
          ]
        }
      ],
      "source": [
        "#printing number one by one\n",
        "'''\n",
        "x=input()\n",
        "y=0                                 x=input()\n",
        "for i in (x):             or        for i in range(len(x)):\n",
        "  print(x[y])                           print(x[i])\n",
        "  y+=1\n",
        "'''\n",
        "#or\n",
        "'''\n",
        "x=input()\n",
        "for each in x:\n",
        "  print(each)   '''\n",
        "\n",
        "\n",
        "\n",
        "x=int(input())\n",
        "while (x>0):\n",
        "   t=x%10\n",
        "   x//=10\n",
        "   print(t)"
      ]
    },
    {
      "cell_type": "code",
      "execution_count": null,
      "metadata": {
        "colab": {
          "base_uri": "https://localhost:8080/"
        },
        "id": "6AR_nvQHCUsc",
        "outputId": "cb70ec0c-e168-4036-c0c9-6280bbf7bc21"
      },
      "outputs": [
        {
          "name": "stdout",
          "output_type": "stream",
          "text": [
            "6\n",
            "Perfect\n"
          ]
        }
      ],
      "source": [
        "#to find it is a perfect number\n",
        "'''\n",
        "n=int(input())\n",
        "x=[]\n",
        "for i in range(1,n):\n",
        "  if n%i==0:\n",
        "    x.append(i)\n",
        "y=sum(x[:])\n",
        "if y==n:\n",
        "  print(\"perfect\")\n",
        "else:\n",
        "  print(\"not perfect\")'''\n",
        "\n",
        "  #or\n",
        "\n",
        "n=int(input())\n",
        "x=0\n",
        "for i in range(1,n//2+1):\n",
        "  if n%i==0:\n",
        "    x+=i\n",
        "    if n==x:\n",
        "      print(\"Perfect\")\n",
        "      break\n",
        "else:\n",
        "  print(\"Imperfect\")\n"
      ]
    },
    {
      "cell_type": "code",
      "execution_count": null,
      "metadata": {
        "colab": {
          "base_uri": "https://localhost:8080/"
        },
        "id": "HZApQaHfCopl",
        "outputId": "1bafc88d-e2bf-483c-c757-6acc12f2b393"
      },
      "outputs": [
        {
          "name": "stdout",
          "output_type": "stream",
          "text": [
            "<class 'list'>\n"
          ]
        }
      ],
      "source": [
        "#to check num is armstrong or not\n",
        "\n",
        "n=\"153\"\n",
        "x=[]\n",
        "for i in n:\n",
        "  a=int(i)**len(n)\n",
        "  x.append(a)\n",
        "print(x)\n",
        "y=sum(x)\n",
        "# if y==int(n):\n",
        "  # print(\"num is armstrong\")\n",
        "# else:\n",
        "  # print(\"num is not an armstrong\")\n"
      ]
    },
    {
      "cell_type": "code",
      "execution_count": null,
      "metadata": {
        "colab": {
          "base_uri": "https://localhost:8080/"
        },
        "id": "xQ3nH6jKIJUU",
        "outputId": "74534791-752b-4056-9526-eb31364a77ae"
      },
      "outputs": [
        {
          "name": "stdout",
          "output_type": "stream",
          "text": [
            "1111\n",
            "Binary\n"
          ]
        }
      ],
      "source": [
        "#checking given number is binary or not\n",
        "\n",
        "n=input()\n",
        "lst=[]\n",
        "for i in n:\n",
        "  i=int(i)\n",
        "  lst.append(i)\n",
        "x=0\n",
        "for i in lst:\n",
        "  if i!=0 and i!=1:\n",
        "    x+=1\n",
        "if x==0:\n",
        "  print(\"Binary\")\n",
        "else:\n",
        "  print(\"Not Binary\")\n"
      ]
    },
    {
      "cell_type": "code",
      "execution_count": null,
      "metadata": {
        "colab": {
          "base_uri": "https://localhost:8080/"
        },
        "id": "JI8iUz71Ma3P",
        "outputId": "4f395b66-b59f-4785-ae7e-169bb21eb6a5"
      },
      "outputs": [
        {
          "output_type": "stream",
          "name": "stdout",
          "text": [
            "hgfdsa\n",
            "asdfgh\n"
          ]
        }
      ],
      "source": [
        "#reversing a string\n",
        "'''\n",
        "n=input()\n",
        "for i in reversed(n):\n",
        "  print(i,end=\"\")'''\n",
        "\n",
        "x=input()\n",
        "y=str()\n",
        "for i in x:\n",
        "  y=i+y\n",
        "print(y)"
      ]
    },
    {
      "cell_type": "code",
      "execution_count": null,
      "metadata": {
        "colab": {
          "base_uri": "https://localhost:8080/"
        },
        "id": "Td6cUZOXMxqU",
        "outputId": "ea7ebc32-5227-49a9-a622-44f695a9665f"
      },
      "outputs": [
        {
          "name": "stdout",
          "output_type": "stream",
          "text": [
            "Enter:44\n",
            "4\n",
            "4\n"
          ]
        }
      ],
      "source": [
        "#reversing a string\n",
        "\n",
        "num=int(input(\"Enter:\"))\n",
        "digits=[]\n",
        "while num > 0:\n",
        "   digit = num % 10\n",
        "   digits.append(digit)\n",
        "   num //= 10\n",
        "for digit in reversed(digits):\n",
        "  print(digit)"
      ]
    },
    {
      "cell_type": "code",
      "execution_count": null,
      "metadata": {
        "colab": {
          "base_uri": "https://localhost:8080/"
        },
        "id": "D5DtzG4isZpc",
        "outputId": "ce25d7de-5ec0-43cf-80fc-9d2face050cc"
      },
      "outputs": [
        {
          "name": "stdout",
          "output_type": "stream",
          "text": [
            "6\n",
            "Perfect\n"
          ]
        }
      ],
      "source": [
        "n=int(input())\n",
        "sum=0\n",
        "for i in range(1,n//2+1):\n",
        "  if n%i==0:\n",
        "    sum+=i\n",
        "    if n==sum:\n",
        "      print(\"Perfect\")\n",
        "      break\n",
        "else:\n",
        "  print(\"Imperfect\")"
      ]
    },
    {
      "cell_type": "code",
      "execution_count": null,
      "metadata": {
        "colab": {
          "base_uri": "https://localhost:8080/"
        },
        "id": "BglVkOX4DSWF",
        "outputId": "dc9fac74-49b6-4a4b-b107-d2f4f98bfef4"
      },
      "outputs": [
        {
          "name": "stdout",
          "output_type": "stream",
          "text": [
            "10\n",
            "1 \n",
            "1 2 \n",
            "1 2 3 \n",
            "1 2 3 4 \n",
            "1 2 3 4 5 \n",
            "1 2 3 4 5 6 \n",
            "1 2 3 4 5 6 7 \n",
            "1 2 3 4 5 6 7 8 \n",
            "1 2 3 4 5 6 7 8 9 \n",
            "1 2 3 4 5 6 7 8 9 10 \n"
          ]
        }
      ],
      "source": [
        "n=int(input())\n",
        "for i in range(1,n+1):\n",
        "    for j in range(1,i+1):\n",
        "        print(j,end=\" \")\n",
        "    print()"
      ]
    },
    {
      "cell_type": "code",
      "execution_count": null,
      "metadata": {
        "colab": {
          "base_uri": "https://localhost:8080/"
        },
        "id": "g_xk7hTsDJiJ",
        "outputId": "d5797f38-43f8-4a2f-86f8-c54f4e341dcf"
      },
      "outputs": [
        {
          "name": "stdout",
          "output_type": "stream",
          "text": [
            "10\n",
            "* \n",
            "* * \n",
            "* * * \n",
            "* * * * \n",
            "* * * * * \n",
            "* * * * * * \n",
            "* * * * * * * \n",
            "* * * * * * * * \n",
            "* * * * * * * * * \n",
            "* * * * * * * * * * \n"
          ]
        }
      ],
      "source": [
        "n=int(input())\n",
        "for i in range(1,n+1):\n",
        "    for j in range(1,i+1):\n",
        "        print(\"*\",end=\" \")\n",
        "    print()"
      ]
    },
    {
      "cell_type": "code",
      "execution_count": null,
      "metadata": {
        "colab": {
          "base_uri": "https://localhost:8080/"
        },
        "id": "vTvTpwwJDYQL",
        "outputId": "c1a89878-b798-49e9-ac8f-b5c5f0e753a1"
      },
      "outputs": [
        {
          "name": "stdout",
          "output_type": "stream",
          "text": [
            "10\n",
            "* * * * * * * * * * \n",
            "* * * * * * * * * \n",
            "* * * * * * * * \n",
            "* * * * * * * \n",
            "* * * * * * \n",
            "* * * * * \n",
            "* * * * \n",
            "* * * \n",
            "* * \n",
            "* \n"
          ]
        }
      ],
      "source": [
        "n=int(input())\n",
        "for i in range(n):\n",
        "    for j in range(n-i):\n",
        "        print(\"*\",end=\" \")\n",
        "    print()"
      ]
    },
    {
      "cell_type": "code",
      "execution_count": null,
      "metadata": {
        "colab": {
          "base_uri": "https://localhost:8080/"
        },
        "id": "lUlJmCbxDfBB",
        "outputId": "0e018443-c880-4a8a-913e-51b31e738748"
      },
      "outputs": [
        {
          "name": "stdout",
          "output_type": "stream",
          "text": [
            "10\n",
            "* * * * * * * * * * \n",
            "* * * * * * * * * * \n",
            "* * * * * * * * * * \n",
            "* * * * * * * * * * \n",
            "* * * * * * * * * * \n",
            "* * * * * * * * * * \n",
            "* * * * * * * * * * \n",
            "* * * * * * * * * * \n",
            "* * * * * * * * * * \n",
            "* * * * * * * * * * \n"
          ]
        }
      ],
      "source": [
        "n=int(input())\n",
        "for i in range(n):\n",
        "    for j in range(n):\n",
        "        print(\"*\",end=\" \")\n",
        "    print()"
      ]
    },
    {
      "cell_type": "code",
      "execution_count": null,
      "metadata": {
        "colab": {
          "base_uri": "https://localhost:8080/"
        },
        "id": "0ZpewlT_Ggay",
        "outputId": "d0bb75e0-e924-401a-e389-faf1866ebed6"
      },
      "outputs": [
        {
          "name": "stdout",
          "output_type": "stream",
          "text": [
            "9\n",
            "❤ \n",
            "❤ ❤ \n",
            "❤ ❤ ❤ \n",
            "❤ ❤ ❤ ❤ \n",
            "❤ ❤ ❤ ❤ ❤ \n",
            "❤ ❤ ❤ ❤ ❤ ❤ \n",
            "❤ ❤ ❤ ❤ ❤ ❤ ❤ \n",
            "❤ ❤ ❤ ❤ ❤ ❤ ❤ ❤ \n",
            "❤ ❤ ❤ ❤ ❤ ❤ ❤ ❤ ❤ \n",
            "❤ ❤ ❤ ❤ ❤ ❤ ❤ ❤ \n",
            "❤ ❤ ❤ ❤ ❤ ❤ ❤ \n",
            "❤ ❤ ❤ ❤ ❤ ❤ \n",
            "❤ ❤ ❤ ❤ ❤ \n",
            "❤ ❤ ❤ ❤ \n",
            "❤ ❤ ❤ \n",
            "❤ ❤ \n",
            "❤ \n"
          ]
        }
      ],
      "source": [
        "n=int(input())\n",
        "for i in range(1,n):\n",
        "    for j in range(1,i+1):\n",
        "        print(\"❤\",end=\" \")\n",
        "    print()\n",
        "for i in range(n):\n",
        "    for j in range(n-i):\n",
        "        print(\"❤\",end=\" \")\n",
        "    print()"
      ]
    },
    {
      "cell_type": "code",
      "execution_count": null,
      "metadata": {
        "colab": {
          "base_uri": "https://localhost:8080/"
        },
        "id": "Q9ow6-5AaFJz",
        "outputId": "d858b1f8-9ebe-4053-a328-d49b16f996b7"
      },
      "outputs": [
        {
          "name": "stdout",
          "output_type": "stream",
          "text": [
            "3\n",
            "# # # \n",
            "  #   \n",
            "# # # \n"
          ]
        }
      ],
      "source": [
        "n=int(input())\n",
        "\n",
        "for i in range(n):\n",
        "  for j in range(n):\n",
        "    if i==0 or i==n-1:\n",
        "      print(\"#\",end=\" \")\n",
        "    elif(n//2==j):\n",
        "      print(\"#\",end=\" \")\n",
        "    else:\n",
        "      print(\" \",end=\" \")\n",
        "  print()"
      ]
    },
    {
      "cell_type": "code",
      "execution_count": null,
      "metadata": {
        "colab": {
          "base_uri": "https://localhost:8080/"
        },
        "id": "6FMj9gIsLtxt",
        "outputId": "fe1cc844-189c-4f82-f0ad-e1b09474fc4d"
      },
      "outputs": [
        {
          "name": "stdout",
          "output_type": "stream",
          "text": [
            "5\n",
            "# # # \n",
            "#   # \n",
            "# # # \n",
            "#   # \n",
            "# # # \n"
          ]
        }
      ],
      "source": [
        "n=int(input())\n",
        "\n",
        "for i in range(n):\n",
        "  for j in range(n-2):\n",
        "    if j==0 or j==(n-3):\n",
        "      print(\"#\",end=\" \")\n",
        "    elif i==(n//2) or (i==0) or (i==n-1):\n",
        "      print(\"#\",end=\" \")\n",
        "    else:\n",
        "      print(\" \",end=\" \")\n",
        "  print()"
      ]
    },
    {
      "cell_type": "code",
      "execution_count": null,
      "metadata": {
        "colab": {
          "base_uri": "https://localhost:8080/"
        },
        "id": "uXQQBJ6bTbGo",
        "outputId": "56153264-8755-4832-d954-16f338878e49"
      },
      "outputs": [
        {
          "name": "stdout",
          "output_type": "stream",
          "text": [
            "9\n",
            "  * * * * *   \n",
            "*           * \n",
            "*           * \n",
            "*           * \n",
            "* * * * * * * \n",
            "*           * \n",
            "*           * \n",
            "*           * \n",
            "*           * \n"
          ]
        }
      ],
      "source": [
        "n=int(input())\n",
        "\n",
        "for i in range(n):\n",
        "  for j in range(n-2):\n",
        "    if i==0 and (j==0 or j==(n-3)):\n",
        "      print(\" \",end=\" \")\n",
        "    elif j==0 or j==(n-3):\n",
        "      print(\"*\",end=\" \")\n",
        "    elif i==0 or i==(n//2):\n",
        "      print(\"*\", end=\" \")\n",
        "    else:\n",
        "      print(\" \",end=\" \")\n",
        "  print()"
      ]
    },
    {
      "cell_type": "code",
      "execution_count": null,
      "metadata": {
        "colab": {
          "base_uri": "https://localhost:8080/"
        },
        "id": "T9O0QNrecvV5",
        "outputId": "518b47ef-e85d-45ac-a657-d66ce1aaf0ea"
      },
      "outputs": [
        {
          "name": "stdout",
          "output_type": "stream",
          "text": [
            "9\n",
            "  * * * * *   \n",
            "*           * \n",
            "*           * \n",
            "*           * \n",
            "  * * * * *   \n",
            "*           * \n",
            "*           * \n",
            "*           * \n",
            "  * * * * *   \n"
          ]
        }
      ],
      "source": [
        "n=int(input())\n",
        "\n",
        "for i in range(n):\n",
        "  for j in range(n-2):\n",
        "    if i==0 and (j==0 or j==(n-3)):\n",
        "      print(\" \",end=\" \")\n",
        "    elif i==n-1 and (j==0 or j==(n-3)):\n",
        "      print(\" \",end=\" \")\n",
        "    elif i==n//2 and (j==0 or j==(n-3)):\n",
        "      print(\" \",end=\" \")\n",
        "    elif j==0 or j==(n-3):\n",
        "      print(\"*\",end=\" \")\n",
        "    elif i==0 or i==(n//2) or i==n-1:\n",
        "      print(\"*\", end=\" \")\n",
        "    else:\n",
        "      print(\" \",end=\" \")\n",
        "  print()"
      ]
    },
    {
      "cell_type": "code",
      "execution_count": null,
      "metadata": {
        "colab": {
          "base_uri": "https://localhost:8080/"
        },
        "id": "Z3MlVFKlfpFy",
        "outputId": "ad5b87c5-f362-43d7-c733-d3daac26e216"
      },
      "outputs": [
        {
          "name": "stdout",
          "output_type": "stream",
          "text": [
            "9\n",
            "* * * * * *   \n",
            "*           * \n",
            "*           * \n",
            "*           * \n",
            "* * * * * *   \n",
            "*           * \n",
            "*           * \n",
            "*           * \n",
            "* * * * * *   \n"
          ]
        }
      ],
      "source": [
        "n=int(input())\n",
        "\n",
        "for i in range(n):\n",
        "  for j in range(n-2):\n",
        "    if i==0 and j==(n-3):\n",
        "      print(\" \",end=\" \")\n",
        "    elif i==n-1 and j==(n-3):\n",
        "      print(\" \",end=\" \")\n",
        "    elif i==(n//2) and j==(n-3):\n",
        "      print(\" \",end=\" \")\n",
        "    elif j==0 or j==(n-3):\n",
        "      print(\"*\",end=\" \")\n",
        "    elif i==0 or i==(n//2) or i==n-1:\n",
        "      print(\"*\", end=\" \")\n",
        "    else:\n",
        "      print(\" \",end=\" \")\n",
        "  print()"
      ]
    },
    {
      "cell_type": "code",
      "execution_count": null,
      "metadata": {
        "colab": {
          "base_uri": "https://localhost:8080/"
        },
        "id": "zGI-lVQ8maeT",
        "outputId": "3cd48144-3ef4-4cbc-c947-98a97da5c1a9"
      },
      "outputs": [
        {
          "name": "stdout",
          "output_type": "stream",
          "text": [
            "10\n",
            "          *           \n",
            "          *           \n",
            "          *           \n",
            "          *           \n",
            "          *           \n",
            "* * * * * * * * * * * \n",
            "          *           \n",
            "          *           \n",
            "          *           \n",
            "          *           \n",
            "          *           \n"
          ]
        }
      ],
      "source": [
        "n=int(input())\n",
        "\n",
        "for i in range (n+1):\n",
        "  for j in range(n+1):\n",
        "    if i==5 or j==5:\n",
        "      print(\"*\",end=\" \")\n",
        "    else :\n",
        "      print(\" \",end=\" \")\n",
        "  print()"
      ]
    },
    {
      "cell_type": "code",
      "execution_count": null,
      "metadata": {
        "colab": {
          "base_uri": "https://localhost:8080/"
        },
        "id": "4XxOu9271XnW",
        "outputId": "08cf4b8b-0e63-4fdb-d34e-c345821a455c"
      },
      "outputs": [
        {
          "name": "stdout",
          "output_type": "stream",
          "text": [
            "10\n",
            "* * * * * * *   \n",
            "*             * \n",
            "*             * \n",
            "*             * \n",
            "*             * \n",
            "* * * * * * *   \n",
            "*             * \n",
            "*             * \n",
            "*             * \n",
            "* * * * * * *   \n"
          ]
        }
      ],
      "source": [
        "row=int(input())\n",
        "for i in range(row):\n",
        "  for j in range(row-2):\n",
        "    if j==0 or j==row-2-1 or i==0 or i==(row-1) or i==row//2:\n",
        "      if(i==0 or i==row//2 or i==row-1) and j==row-2-1:\n",
        "        print(\" \",end=\" \")\n",
        "      else:\n",
        "        print(\"*\",end=\" \")\n",
        "    else:\n",
        "      print(\" \",end=\" \")\n",
        "  print()\n"
      ]
    },
    {
      "cell_type": "code",
      "execution_count": null,
      "metadata": {
        "colab": {
          "base_uri": "https://localhost:8080/"
        },
        "id": "jBb0VNJP3xMh",
        "outputId": "0aa8d1c1-fb79-4c14-d1c0-ed8f2a0e0b0a"
      },
      "outputs": [
        {
          "name": "stdout",
          "output_type": "stream",
          "text": [
            "    *     \n",
            "    *     \n",
            "    *     \n",
            "    *     \n",
            "* * * * * \n"
          ]
        }
      ],
      "source": [
        "n=5;\n",
        "y=0\n",
        "for i in range(n):\n",
        "  for j in range(n):\n",
        "    if i==n-1 or j== (n//2):\n",
        "      print(\"*\",end=\" \")\n",
        "    else:\n",
        "      print(\" \",end=\" \")\n",
        "  print()"
      ]
    },
    {
      "cell_type": "code",
      "execution_count": null,
      "metadata": {
        "id": "lmTjJC-IBSgG"
      },
      "outputs": [],
      "source": [
        "\n",
        "n = int(input())\n",
        "start = 1\n",
        "cnt = 2\n",
        "for i in range(n):\n",
        "    print(\" \"*(n+1-cnt), end=\" \")\n",
        "    print(\"*\"*start)\n",
        "    start+=2\n",
        "    cnt += 1"
      ]
    },
    {
      "cell_type": "code",
      "execution_count": null,
      "metadata": {
        "colab": {
          "base_uri": "https://localhost:8080/"
        },
        "id": "4t5QvlcpDIWd",
        "outputId": "d8f4880b-9930-4386-f4ce-f3a0b947459f"
      },
      "outputs": [
        {
          "name": "stdout",
          "output_type": "stream",
          "text": [
            "5\n",
            "         * \n",
            "       * * * \n",
            "     * * * * * \n",
            "   * * * * * * * \n",
            " * * * * * * * * * \n"
          ]
        }
      ],
      "source": [
        "\n",
        "n = int(input())\n",
        "start = 1\n",
        "cnt = 2\n",
        "for i in range(n):\n",
        "    print(\"  \"*(n+1-cnt), end=\" \")\n",
        "    print(\"* \"*start)\n",
        "    start+=2\n",
        "    cnt += 1"
      ]
    },
    {
      "cell_type": "code",
      "execution_count": null,
      "metadata": {
        "colab": {
          "base_uri": "https://localhost:8080/"
        },
        "id": "xTfzSxkWQssD",
        "outputId": "6e29616c-1559-4953-a488-f3064002242a"
      },
      "outputs": [
        {
          "name": "stdout",
          "output_type": "stream",
          "text": [
            "9\n",
            "* * * * * * * * * \n",
            "*               * \n",
            "*               * \n",
            "*               * \n",
            "* * * * * * * * * \n",
            "*               * \n",
            "*               * \n",
            "*               * \n",
            "* * * * * * * * * \n"
          ]
        }
      ],
      "source": [
        "x=int(input())\n",
        "for i in range(x):\n",
        "    for j in range(x):\n",
        "        if i==0 or i==x//2 or i==x-1 or j==0 or j==x-1:\n",
        "            print(\"*\",end=\" \")\n",
        "        elif\n",
        "        else:\n",
        "            print(\" \",end=\" \")\n",
        "    print()"
      ]
    },
    {
      "cell_type": "code",
      "execution_count": null,
      "metadata": {
        "colab": {
          "base_uri": "https://localhost:8080/"
        },
        "id": "2-TCy33xRJVc",
        "outputId": "255cb3fe-9a55-4b28-eba2-28ba4de509b8"
      },
      "outputs": [
        {
          "name": "stdout",
          "output_type": "stream",
          "text": [
            "8\n",
            "*       * \n",
            " *     *  \n",
            "  *   *   \n",
            "   * *    \n",
            "   * *    \n",
            "  *   *   \n",
            " *     *  \n",
            "*       * \n"
          ]
        }
      ],
      "source": [
        "x=int(input())\n",
        "for i in range(x):\n",
        "    for j in range(x):\n",
        "        if i==j or i+j==x-1:\n",
        "            print(\"*\",end=\" \")\n",
        "        else:\n",
        "            print(\" \",end=\"\")\n",
        "    print()"
      ]
    },
    {
      "cell_type": "code",
      "execution_count": null,
      "metadata": {
        "colab": {
          "base_uri": "https://localhost:8080/"
        },
        "id": "hpBJ15HHA1hl",
        "outputId": "696c49e5-9e6c-40a7-a8ff-0333cf6da970"
      },
      "outputs": [
        {
          "name": "stdout",
          "output_type": "stream",
          "text": [
            "  * * * * * * *   \n",
            "*               * \n",
            "*               * \n",
            "*               * \n",
            "* * * * * * * * * \n",
            "*               * \n",
            "*               * \n",
            "*               * \n",
            "*               * \n"
          ]
        }
      ],
      "source": [
        "x=9\n",
        "for i in range(x):\n",
        "    for j in range(x):\n",
        "        if  (i==0 and j==0) or (j==x-1 and i==0):\n",
        "            print(\" \",end=\" \")\n",
        "\n",
        "        elif i==0 or j==0 or i==x//2 or j==x-1:\n",
        "            print(\"*\",end=\" \")\n",
        "        else:\n",
        "            print(\" \",end=\" \")\n",
        "    print()"
      ]
    },
    {
      "cell_type": "code",
      "execution_count": null,
      "metadata": {
        "colab": {
          "base_uri": "https://localhost:8080/"
        },
        "id": "UePVIo7lLDTZ",
        "outputId": "e89d42fc-4b25-4bd4-a387-779aed5408f1"
      },
      "outputs": [
        {
          "name": "stdout",
          "output_type": "stream",
          "text": [
            "20\n"
          ]
        }
      ],
      "source": [
        "# multiplying without *\n",
        "'''n1= int(input())\n",
        "n2=int(input())\n",
        "count=n2\n",
        "product=0\n",
        "\n",
        "while count > 0:\n",
        "  count-=1\n",
        "  product+=n1\n",
        "print(product)'''\n",
        "\n",
        "#or\n",
        "n1=4\n",
        "n2=5\n",
        "pro=0\n",
        "for i in range(n2):\n",
        "  pro+=n1\n",
        "print(pro)"
      ]
    },
    {
      "cell_type": "code",
      "execution_count": null,
      "metadata": {
        "colab": {
          "base_uri": "https://localhost:8080/"
        },
        "id": "AL7YPlX2MbjK",
        "outputId": "a27669b3-765a-43c0-f902-33e508d22565"
      },
      "outputs": [
        {
          "name": "stdout",
          "output_type": "stream",
          "text": [
            "10\n"
          ]
        }
      ],
      "source": [
        "# bitwise addition\n",
        "a=5\n",
        "b=5\n",
        "c=a&b\n",
        "print(c<<1)"
      ]
    },
    {
      "cell_type": "code",
      "execution_count": null,
      "metadata": {
        "colab": {
          "base_uri": "https://localhost:8080/"
        },
        "id": "nBsMfYQ5OEgj",
        "outputId": "05d7a6af-219e-4cf6-e5c0-4e164241fb71"
      },
      "outputs": [
        {
          "name": "stdout",
          "output_type": "stream",
          "text": [
            "2\n"
          ]
        }
      ],
      "source": [
        "#bitwise subration\n",
        "\n",
        "a=5\n",
        "b=3\n",
        "c=a&b\n",
        "print(c<<1)"
      ]
    },
    {
      "cell_type": "code",
      "execution_count": null,
      "metadata": {
        "colab": {
          "base_uri": "https://localhost:8080/"
        },
        "id": "rTr_1m3zSVK2",
        "outputId": "85ff2ece-ce3f-4388-a3c5-4fa90af8b08f"
      },
      "outputs": [
        {
          "name": "stdout",
          "output_type": "stream",
          "text": [
            "8\n"
          ]
        }
      ],
      "source": [
        "a=6\n",
        "b=2\n",
        "c=a&b\n",
        "print(c<<2)"
      ]
    },
    {
      "cell_type": "code",
      "execution_count": null,
      "metadata": {
        "colab": {
          "base_uri": "https://localhost:8080/"
        },
        "id": "6Zxs64CNVgbH",
        "outputId": "03682e3e-845f-47b8-f605-ead4d7799f0a"
      },
      "outputs": [
        {
          "name": "stdout",
          "output_type": "stream",
          "text": [
            "6\n",
            "3\n",
            "2\n"
          ]
        }
      ],
      "source": [
        "#divison without / or //\n",
        "'''\n",
        "n1=int(input())\n",
        "n2=int(input())\n",
        "temp=0\n",
        "\n",
        "if n1<n2:\n",
        "  print(0)\n",
        "else:\n",
        "  rem=n1%n2\n",
        "  for i in range(n1):\n",
        "    temp=(i*n2)+rem\n",
        "    if temp==n1:\n",
        "      print(i)\n",
        "      break'''\n",
        "\n",
        "  #or\n",
        "\n",
        "n1=int(input())\n",
        "n2=int(input())\n",
        "result=0\n",
        "\n",
        "while n1>=n2:\n",
        "  result+=1\n",
        "  n1-=n2\n",
        "print(result   )"
      ]
    },
    {
      "cell_type": "code",
      "execution_count": null,
      "metadata": {
        "id": "Szkf1X8FbnqA"
      },
      "outputs": [],
      "source": [
        "n1 = int(input())\n",
        "n2 = int(input())\n",
        "print(f\"{n1},{n2} is\",n1+~n2+1)"
      ]
    },
    {
      "cell_type": "code",
      "execution_count": null,
      "metadata": {
        "colab": {
          "base_uri": "https://localhost:8080/"
        },
        "id": "APA9c6o4bzbS",
        "outputId": "7f552c0d-9fd8-430c-eb82-dd24e57bc681"
      },
      "outputs": [
        {
          "name": "stdout",
          "output_type": "stream",
          "text": [
            "9\n",
            "1 \n",
            "1 2 \n",
            "1 2 3 \n",
            "1 2 3 4 \n",
            "1 2 3 4 5 \n",
            "1 2 3 4 5 6 \n",
            "1 2 3 4 5 6 7 \n",
            "1 2 3 4 5 6 7 8 \n",
            "1 2 3 4 5 6 7 8 9 \n"
          ]
        }
      ],
      "source": [
        "x=int(input())\n",
        "for i in range(1,x+1):\n",
        "  for j in range(j,i+1):\n",
        "    print(i,end=\" \")\n",
        "  print()"
      ]
    },
    {
      "cell_type": "code",
      "execution_count": null,
      "metadata": {
        "colab": {
          "base_uri": "https://localhost:8080/"
        },
        "id": "BS4js9LeBn_-",
        "outputId": "c564d4b9-d59a-420e-94d9-afbf9fb98a1a"
      },
      "outputs": [
        {
          "name": "stdout",
          "output_type": "stream",
          "text": [
            "9\n",
            "1 \n",
            "2 2 \n",
            "3 3 3 \n",
            "4 4 4 4 \n",
            "5 5 5 5 5 \n",
            "6 6 6 6 6 6 \n",
            "7 7 7 7 7 7 7 \n",
            "8 8 8 8 8 8 8 8 \n"
          ]
        }
      ],
      "source": [
        "x=int(input())\n",
        "for i in range(1,x):\n",
        "  for j in range(0,i):\n",
        "    print(i,end=\" \")\n",
        "  print()"
      ]
    },
    {
      "cell_type": "code",
      "execution_count": null,
      "metadata": {
        "colab": {
          "base_uri": "https://localhost:8080/"
        },
        "id": "Ay3O8WHRCFD6",
        "outputId": "843ffd1b-d701-40bd-d465-3f1abd87423d"
      },
      "outputs": [
        {
          "name": "stdout",
          "output_type": "stream",
          "text": [
            "  1 1 1 1 1 1 1 1 1 \n",
            "1   2 2 2 2 2 2 2 1 \n",
            "1 2   3 3 3 3 3 2 1 \n",
            "1 2 3         3 2 1 \n",
            "1 2 3         3 2 1 \n",
            "1 2 3         3 2 1 \n",
            "1 2 3         3 2 1 \n",
            "1 2 3 3 3 3 3   2 1 \n",
            "1 2 2 2 2 2 2 2   1 \n",
            "1 1 1 1 1 1 1 1 1   \n"
          ]
        }
      ],
      "source": [
        "x=10\n",
        "for i in range(x):\n",
        "  for j in range(x):\n",
        "\n",
        "    if i==j:\n",
        "      print(\" \",end=\" \")\n",
        "    elif j==0 or i==x-1 or i==0 or j==x-1:\n",
        "      print(\"1\",end=\" \")\n",
        "    elif (j==1 or  i==x-2 or j==x-2 or i==1):\n",
        "      print(\"2\",end=\" \")\n",
        "    elif (j==2 or  i==x-3 or j==x-3 or i==2):\n",
        "      print(\"3\", end=\" \")\n",
        "    else:\n",
        "      print(\" \",end=\" \")\n",
        "  print()"
      ]
    },
    {
      "cell_type": "code",
      "execution_count": null,
      "metadata": {
        "colab": {
          "base_uri": "https://localhost:8080/"
        },
        "id": "VOpMvRTMVTfp",
        "outputId": "0332f8ed-decf-4d12-913b-724f95979c9a"
      },
      "outputs": [
        {
          "name": "stdout",
          "output_type": "stream",
          "text": [
            "enter friend namehdf\n",
            "enter the emoji name: sad\n",
            "hi, hdf 128543\n"
          ]
        }
      ],
      "source": [
        "# char = input(\"enter only one char element: \")\n",
        "\n",
        "# print(ord(char))\n",
        "# print(chr(ord(char)))\n",
        "# print(chr(128512))\n",
        "friend = input(\"enter friend name\")\n",
        "emoji = {\"gentle smile\": 128512, \"die laugh\": 128514, \"sad\":128543}\n",
        "inp_emoji = input(\"enter the emoji name: \")\n",
        "print(f\"hi, {friend} {emoji[inp_emoji]}\")"
      ]
    },
    {
      "cell_type": "code",
      "execution_count": null,
      "metadata": {
        "colab": {
          "base_uri": "https://localhost:8080/"
        },
        "id": "FtBA1DgmSNW4",
        "outputId": "a04b59f3-ddee-4d04-9e66-75b5581053d3"
      },
      "outputs": [
        {
          "name": "stdout",
          "output_type": "stream",
          "text": [
            "Harish's Market\n"
          ]
        }
      ],
      "source": [
        "#print(\"hello \\\\ world\")\n",
        "print(\"Harish\\'s Market\")"
      ]
    },
    {
      "cell_type": "code",
      "execution_count": null,
      "metadata": {
        "colab": {
          "base_uri": "https://localhost:8080/"
        },
        "id": "bAGyZbqWTDL7",
        "outputId": "fd1cb736-e5c4-460b-bb3f-f692b056ee63"
      },
      "outputs": [
        {
          "name": "stdout",
          "output_type": "stream",
          "text": [
            "Harish Raja Sekar Krishna\n",
            "Harish raja sekar krishna\n",
            "HARISH RAJA SEKAR KRISHNA\n",
            "harish raja sekar krishna\n"
          ]
        }
      ],
      "source": [
        "'''multiplication,divsion have same precedence\n",
        "   additoin,subration have same precedence\n",
        "   first precedence is to ()'''\n",
        "# methods\n",
        "x=\"harish raja sekar krishna\"\n",
        "print(x.title())\n",
        "print(x.capitalize())\n",
        "print(x.upper())\n",
        "print(x.lower())"
      ]
    },
    {
      "cell_type": "code",
      "execution_count": null,
      "metadata": {
        "colab": {
          "base_uri": "https://localhost:8080/"
        },
        "id": "2qDYC027ZUjJ",
        "outputId": "1262a54d-a395-4d0a-ffcd-13891576577e"
      },
      "outputs": [
        {
          "name": "stdout",
          "output_type": "stream",
          "text": [
            "aaaaabbbbbbccccccdddddd\n",
            "['a', 'a', 'a', 'a', 'a', 'b', 'b', 'b', 'b', 'b', 'b', 'c', 'c', 'c', 'c', 'c', 'c', 'd', 'd', 'd', 'd', 'd', 'd']\n",
            "a a a a a b b b b b b c c c c c c d d d d d d\n",
            "a a a a a b b b b b b c c c c c c d d d d d d "
          ]
        }
      ],
      "source": [
        "string=input()\n",
        "dup=[]\n",
        "count=string.count(string[0])\n",
        "\n",
        "for i in string:\n",
        "  if string.count(i)>=2:\n",
        "    dup.append(i)\n",
        "print(*dup) #super concepthuu\n",
        "\n",
        "for i in dup:\n",
        "  print(i,end=\" \")"
      ]
    },
    {
      "cell_type": "code",
      "execution_count": null,
      "metadata": {
        "colab": {
          "base_uri": "https://localhost:8080/"
        },
        "id": "vg6ZVu6yb4o3",
        "outputId": "edd6eee3-9d1f-4e6d-b5e6-b1e94d70b787"
      },
      "outputs": [
        {
          "name": "stdout",
          "output_type": "stream",
          "text": [
            "01\n",
            "20\n"
          ]
        },
        {
          "data": {
            "text/plain": [
              "21"
            ]
          },
          "execution_count": 2,
          "metadata": {},
          "output_type": "execute_result"
        }
      ],
      "source": [
        "#functions\n",
        "\n",
        "def add(x,y):\n",
        "  return x+y\n",
        "\n",
        "a=int(input())\n",
        "b=int(input())\n",
        "\n",
        "\n",
        "add(a,b)"
      ]
    },
    {
      "cell_type": "code",
      "execution_count": null,
      "metadata": {
        "colab": {
          "base_uri": "https://localhost:8080/"
        },
        "id": "t5uHNIp0fZwu",
        "outputId": "8241dcf9-c968-4321-fa78-dd294384cb6d"
      },
      "outputs": [
        {
          "name": "stdout",
          "output_type": "stream",
          "text": [
            "5\n",
            "0 1 1 2 3\n"
          ]
        }
      ],
      "source": [
        "#printing fibonacci series using iterative method\n",
        "\n",
        "def fib(n):\n",
        "  a=[0,1]\n",
        "  if n==0:\n",
        "    a=[]\n",
        "    return a\n",
        "  elif n==1:\n",
        "    a=[0]\n",
        "    return a\n",
        "  elif n==2:\n",
        "    print(*a)\n",
        "  else:\n",
        "    for i in range(1,n-1):\n",
        "      c=a[i-1]+a[i]\n",
        "      a.append(c)\n",
        "    return a\n",
        "\n",
        "\n",
        "b=int(input())\n",
        "print(*fib(b))"
      ]
    },
    {
      "cell_type": "code",
      "execution_count": null,
      "metadata": {
        "colab": {
          "base_uri": "https://localhost:8080/"
        },
        "id": "RW9Hth0RtCgE",
        "outputId": "d4051d93-637e-46dd-fb83-92b150316fd0"
      },
      "outputs": [
        {
          "name": "stdout",
          "output_type": "stream",
          "text": [
            "yellow green purple red white\n",
            "yellow\n",
            "green\n",
            "purple\n",
            "red\n",
            "white"
          ]
        }
      ],
      "source": [
        "#separating string without split\n",
        "\n",
        "string = input() # \"yellow green purple red white\"\n",
        "for i in string:\n",
        "  if i == \" \":\n",
        "    print()\n",
        "  else:\n",
        "    print(i, end=\"\")"
      ]
    },
    {
      "cell_type": "code",
      "execution_count": null,
      "metadata": {
        "colab": {
          "base_uri": "https://localhost:8080/"
        },
        "id": "_nbssaUbIca1",
        "outputId": "6e03fc77-95fb-479a-f62a-40f5b1bc3b10"
      },
      "outputs": [
        {
          "name": "stdout",
          "output_type": "stream",
          "text": [
            "hello,hello\n",
            "h2 e2 l4 l4 o2 ,1 h2 e2 l4 l4 o2 "
          ]
        }
      ],
      "source": [
        "# counting letters\n",
        "\n",
        "string =input()\n",
        "for i in string:\n",
        "  count=0\n",
        "  for j in string:\n",
        "    if(i==j):\n",
        "      count+=1\n",
        "  print(i,count,sep=\"\",end=\" \")\n"
      ]
    },
    {
      "cell_type": "code",
      "execution_count": null,
      "metadata": {
        "colab": {
          "base_uri": "https://localhost:8080/"
        },
        "id": "N9dXsuBdKtvd",
        "outputId": "eff913a1-a8d1-455b-9746-8df713b5750f"
      },
      "outputs": [
        {
          "name": "stdout",
          "output_type": "stream",
          "text": [
            "4\n",
            "10\n"
          ]
        }
      ],
      "source": [
        "#iterative method\n",
        "\n",
        "n=int(input())\n",
        "sum=0\n",
        "for i in range(1,n+1):\n",
        "  sum+=i\n",
        "print(sum)"
      ]
    },
    {
      "cell_type": "code",
      "execution_count": null,
      "metadata": {
        "colab": {
          "base_uri": "https://localhost:8080/"
        },
        "id": "sXLGTngyKwqn",
        "outputId": "0c5f4b69-9b0b-48c3-cb25-12948e44ed78"
      },
      "outputs": [
        {
          "name": "stdout",
          "output_type": "stream",
          "text": [
            "5\n",
            "120\n"
          ]
        }
      ],
      "source": [
        "#recurssive Method\n",
        "# factorial using recursion\n",
        "n=int(input())\n",
        "\n",
        "def fact(n):\n",
        "  if n==0:\n",
        "    return 1\n",
        "  return n*fact(n-1)\n",
        "\n",
        "print(fact(n))\n"
      ]
    },
    {
      "cell_type": "code",
      "execution_count": null,
      "metadata": {
        "colab": {
          "base_uri": "https://localhost:8080/"
        },
        "id": "4Dl64ePtPN2E",
        "outputId": "6b96f13a-dcb0-4733-a45a-d2d1dd085f98"
      },
      "outputs": [
        {
          "name": "stdout",
          "output_type": "stream",
          "text": [
            "5\n",
            "55\n"
          ]
        }
      ],
      "source": [
        "# square numbers using recursion\n",
        "n=int(input())\n",
        "\n",
        "def sqr_n(n):\n",
        "  if n==0:\n",
        "    return 0\n",
        "  return (n**2)+sqr_n(n-1)\n",
        "\n",
        "print(sqr_n(n))"
      ]
    },
    {
      "cell_type": "code",
      "execution_count": null,
      "metadata": {
        "colab": {
          "base_uri": "https://localhost:8080/"
        },
        "id": "M3nDB2VGQnQ_",
        "outputId": "88df0acb-cf21-4f8e-c638-89042446c903"
      },
      "outputs": [
        {
          "name": "stdout",
          "output_type": "stream",
          "text": [
            "5\n",
            "Fibonacci series:\n",
            "0 1 1 2 3 "
          ]
        }
      ],
      "source": [
        "#fib on recursion\n",
        "def fibonacci(n):\n",
        "    if n <= 1:\n",
        "        return n\n",
        "    else:\n",
        "        return fibonacci(n - 1) + fibonacci(n - 2)\n",
        "\n",
        "\n",
        "terms = int(input())\n",
        "\n",
        "\n",
        "if terms <= 0:\n",
        "    print(\"Number of terms should be positive.\")\n",
        "else:\n",
        "    print(\"Fibonacci series:\")\n",
        "    for i in range(terms):\n",
        "        print(fibonacci(i),end=\" \")"
      ]
    },
    {
      "cell_type": "code",
      "execution_count": null,
      "metadata": {
        "colab": {
          "base_uri": "https://localhost:8080/"
        },
        "id": "XYfn6AbEejjJ",
        "outputId": "100e49ad-f327-45f5-f211-2d7bb51df1aa"
      },
      "outputs": [
        {
          "name": "stdout",
          "output_type": "stream",
          "text": [
            "Enter the nth position for fibonacci: 9\n",
            "the 9th number in fibonacci series is: 34\n"
          ]
        }
      ],
      "source": [
        "def main():\n",
        "  n=int(input(\"Enter the nth position for fibonacci: \"))\n",
        "  result = fibonacci_num(n)\n",
        "  print( \"the %dth number in fibonacci series is: %d\"%(n,result))\n",
        "\n",
        "\n",
        "def fibonacci_num(n_elem):\n",
        "  if n_elem <=1:\n",
        "    return n_elem\n",
        "  return fibonacci_num(n_elem-1)+fibonacci_num(n_elem-2)\n",
        "\n",
        "main()"
      ]
    },
    {
      "cell_type": "code",
      "execution_count": null,
      "metadata": {
        "colab": {
          "base_uri": "https://localhost:8080/"
        },
        "id": "qINbqbMolwG_",
        "outputId": "85ca9978-a36c-46b9-b154-fe3603590ecd"
      },
      "outputs": [
        {
          "name": "stdout",
          "output_type": "stream",
          "text": [
            "2100\n",
            "2100 is not leap year\n"
          ]
        }
      ],
      "source": [
        "#print year is leap year or not\n",
        "#1800, 1900, 2100, 2200 and 2300 are not a leap year\n",
        "\n",
        "n=int(input())\n",
        "\n",
        "def year(n):\n",
        "    if n%400==0 and n%100==0:\n",
        "        return n,\"is leap year\"\n",
        "    elif n%4==0 and n%100!=0:\n",
        "        return n,\"is leap year\"\n",
        "    else:\n",
        "        return n,\"is not leap year\"\n",
        "\n",
        "print(*year(n))"
      ]
    },
    {
      "cell_type": "code",
      "execution_count": null,
      "metadata": {
        "colab": {
          "base_uri": "https://localhost:8080/"
        },
        "id": "DvEWL2fUoR6v",
        "outputId": "bb75a581-b1c0-4f68-e844-0bb214216cb6"
      },
      "outputs": [
        {
          "name": "stdout",
          "output_type": "stream",
          "text": [
            "hellhell\n",
            "h2 e2 l4 l4 h2 e2 l4 l4 "
          ]
        }
      ],
      "source": [
        "# string counting\n",
        "string =input()\n",
        "for i in string:\n",
        "  count=0\n",
        "  for j in string:\n",
        "    if(i==j):\n",
        "      count+=1\n",
        "  print(i,count,sep=\"\",end=\" \")"
      ]
    },
    {
      "cell_type": "code",
      "execution_count": null,
      "metadata": {
        "colab": {
          "base_uri": "https://localhost:8080/"
        },
        "id": "7O5IzI_G3uUK",
        "outputId": "01a84915-6448-4499-a5ea-8044590fa369"
      },
      "outputs": [
        {
          "name": "stdout",
          "output_type": "stream",
          "text": [
            "Enter no of integers: 5\n",
            "1\n",
            "9\n",
            "2\n",
            "8\n",
            "5\n",
            "1 2 5 8 9\n"
          ]
        }
      ],
      "source": [
        "#printing the number list in ascending order\n",
        "\n",
        "n=int(input(\"Enter no of integers: \"))\n",
        "arr=[]\n",
        "\n",
        "for i in range(n):\n",
        "    num=int(input())\n",
        "    arr.append(num)\n",
        "\n",
        "so_arr=sorted(arr)\n",
        "print(*so_arr)"
      ]
    },
    {
      "cell_type": "code",
      "execution_count": null,
      "metadata": {
        "colab": {
          "base_uri": "https://localhost:8080/"
        },
        "id": "eQaE-3EK71Ey",
        "outputId": "1fa897fc-1211-4957-f604-8725f40e5e89"
      },
      "outputs": [
        {
          "name": "stdout",
          "output_type": "stream",
          "text": [
            "seeeded\n",
            "s1 e2 e2 e2 d1 e1 d1 "
          ]
        }
      ],
      "source": [
        "x=input()\n",
        "count=1\n",
        "for i in range(0,len(x)):\n",
        "    for j in range (i+1,len(x)-1):\n",
        "        if x[i]==x[j]:\n",
        "            count+=1\n",
        "        else:\n",
        "            count=1\n",
        "    print(x[i],count,sep=\"\",end=\" \")"
      ]
    },
    {
      "cell_type": "code",
      "execution_count": null,
      "metadata": {
        "colab": {
          "base_uri": "https://localhost:8080/"
        },
        "id": "M5pXuor0S6Ab",
        "outputId": "c5e768c8-fd4a-4b1e-fb85-0ae48ee84d4e"
      },
      "outputs": [
        {
          "name": "stdout",
          "output_type": "stream",
          "text": [
            "1.0 , 2.0 , 4.0 , 5.0\n"
          ]
        }
      ],
      "source": [
        "#mapping function\n",
        "\n",
        "n=tuple(map(float,[1,2,4,5]))\n",
        "print(*n,sep=\" , \")"
      ]
    },
    {
      "cell_type": "code",
      "execution_count": null,
      "metadata": {
        "colab": {
          "base_uri": "https://localhost:8080/"
        },
        "id": "xezYff5RaxPJ",
        "outputId": "882fd0a1-a92a-4eac-9b3b-7273b565a359"
      },
      "outputs": [
        {
          "name": "stdout",
          "output_type": "stream",
          "text": [
            "qazwsxwsdwedesz\n",
            "q1a1z1w1s1x1w1s1d1w1e1d1e1s1z1\n"
          ]
        }
      ],
      "source": [
        "#string compression\n",
        "\n",
        "def com_str(string):\n",
        "    com=\"\"\n",
        "    cnt=1\n",
        "    prev_char=string[0]\n",
        "\n",
        "    for i in range(1,len(string)):\n",
        "        if string[i] == prev_char:\n",
        "            cnt+=1\n",
        "        else:\n",
        "            com+=(prev_char + str(cnt)) *cnt\n",
        "            cnt=1\n",
        "            prev_char = string[i]\n",
        "\n",
        "    com+=(prev_char +str(cnt)) *cnt\n",
        "    return com\n",
        "\n",
        "string=input()\n",
        "\n",
        "print(com_str(string))"
      ]
    },
    {
      "cell_type": "code",
      "execution_count": null,
      "metadata": {
        "colab": {
          "base_uri": "https://localhost:8080/"
        },
        "id": "PKwFNrm7gGCE",
        "outputId": "9dae9d63-8ab8-4f11-dd4a-c600b9d9ae15"
      },
      "outputs": [
        {
          "name": "stdout",
          "output_type": "stream",
          "text": [
            "[1, 2, 2, 3, 3, 4, 4, 6, 7, 8, 8, 8, 8, 32, 34, 35, 75, 576, 579]\n"
          ]
        }
      ],
      "source": [
        "#sorting without using function\n",
        "\n",
        "l1=[1,2,6,8,8,4,8,75,4,3,32,576,7,2,34,579,3,35,8]\n",
        "\n",
        "for i in range(len(l1)):\n",
        "    for j in range(i, len(l1)):\n",
        "        if l1[i] >=l1[j]:\n",
        "            temp=l1[i]\n",
        "            l1[i]=l1[j]\n",
        "            l1[j]=temp   #l1[i],l1[j]=l1[j],l1[i]\n",
        "\n",
        "print(l1)\n"
      ]
    },
    {
      "cell_type": "code",
      "execution_count": null,
      "metadata": {
        "colab": {
          "base_uri": "https://localhost:8080/"
        },
        "id": "zPZD7fK6p0Yz",
        "outputId": "86e12ec6-143c-4048-8c69-eb8c46213baa"
      },
      "outputs": [
        {
          "output_type": "stream",
          "name": "stdout",
          "text": [
            "(()\n",
            "\n",
            "valid\n"
          ]
        }
      ],
      "source": [
        "# bracket checking\n",
        "\n",
        "n=input()\n",
        "a=False\n",
        "b=False\n",
        "c=False\n",
        "for i in n:\n",
        "    if i==\"(\":\n",
        "        for j in n:\n",
        "            if j==\")\":\n",
        "                n.pop(n.index(\")\"))\n",
        "                a=True\n",
        "    elif i==\"[\":\n",
        "        for j in n:\n",
        "            if j==\"]\":\n",
        "                b=True\n",
        "    elif i==\"{\":\n",
        "        for j in n:\n",
        "            if j==\"}\":\n",
        "                c=True\n",
        "else:\n",
        "    print(\"invalid\")\n",
        "\n",
        "if a==b==c==True:\n",
        "    print(\"valid\")"
      ]
    },
    {
      "cell_type": "code",
      "source": [
        "name=input()\n",
        "age=input()\n",
        "print(f\"my name is {name},my age is {age}\")"
      ],
      "metadata": {
        "colab": {
          "base_uri": "https://localhost:8080/"
        },
        "id": "5tX_9u835qyQ",
        "outputId": "5b72f0fe-7d30-4639-fdcf-333b4fc0d415"
      },
      "execution_count": null,
      "outputs": [
        {
          "output_type": "stream",
          "name": "stdout",
          "text": [
            "hari\n",
            "56\n",
            "my name is hari,my age is 56\n"
          ]
        }
      ]
    },
    {
      "cell_type": "code",
      "source": [
        "name=input()\n",
        "age=float(input())\n",
        "print(\"my name is {1},my age is {0:.3f}\".format(age,name))"
      ],
      "metadata": {
        "colab": {
          "base_uri": "https://localhost:8080/"
        },
        "id": "L4QJ1NIR6RvK",
        "outputId": "9b915adc-8c52-498e-91f9-e7ec709cf360"
      },
      "execution_count": null,
      "outputs": [
        {
          "output_type": "stream",
          "name": "stdout",
          "text": [
            "frs\n",
            "1.234567\n",
            "my name is frs,my age is 1.235\n"
          ]
        }
      ]
    }
  ],
  "metadata": {
    "colab": {
      "provenance": [],
      "authorship_tag": "ABX9TyNfDuMEN5RzVIbC5qSbXuF+",
      "include_colab_link": true
    },
    "kernelspec": {
      "display_name": "Python 3",
      "name": "python3"
    },
    "language_info": {
      "name": "python"
    }
  },
  "nbformat": 4,
  "nbformat_minor": 0
}